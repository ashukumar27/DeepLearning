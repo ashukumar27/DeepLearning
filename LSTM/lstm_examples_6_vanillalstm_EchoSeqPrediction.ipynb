{
  "nbformat": 4,
  "nbformat_minor": 0,
  "metadata": {
    "colab": {
      "name": "lstm_examples_6_vanillalstm_EchoSeqPrediction.ipynb",
      "version": "0.3.2",
      "views": {},
      "default_view": {},
      "provenance": [],
      "collapsed_sections": []
    }
  },
  "cells": [
    {
      "metadata": {
        "id": "oE6pyvDKDvb_",
        "colab_type": "code",
        "colab": {
          "autoexec": {
            "startup": false,
            "wait_interval": 0
          }
        }
      },
      "cell_type": "code",
      "source": [
        ""
      ],
      "execution_count": 0,
      "outputs": []
    },
    {
      "metadata": {
        "id": "Vy3oENF8D81c",
        "colab_type": "text"
      },
      "cell_type": "markdown",
      "source": [
        "Echo Sequence Prediction using Vanilla LSTMs"
      ]
    },
    {
      "metadata": {
        "id": "69b5j3HHEBG1",
        "colab_type": "code",
        "colab": {
          "autoexec": {
            "startup": false,
            "wait_interval": 0
          }
        }
      },
      "cell_type": "code",
      "source": [
        "#Generate Data - Random integers, one hot encoding and one-hot decoding\n",
        "from random import randint\n",
        "from numpy import array, argmax\n"
      ],
      "execution_count": 0,
      "outputs": []
    },
    {
      "metadata": {
        "id": "j63oaTsbEROd",
        "colab_type": "code",
        "colab": {
          "autoexec": {
            "startup": false,
            "wait_interval": 0
          }
        }
      },
      "cell_type": "code",
      "source": [
        "#Code for generating a random sequence between 0 and n_features-1, \n",
        "#and no. of elements = length\n",
        "def generate_sequence(length, n_features):\n",
        "  return [randint(0,n_features-1) for _ in range(length)]\n",
        "\n",
        "#Code for one-hot encoding of sequence\n",
        "def one_hot_encode(sequence, n_features):\n",
        "  encoding=list()\n",
        "  for values in sequence:\n",
        "    vector = [0 for _ in range(n_features)]\n",
        "    vector[values] = 1\n",
        "    encoding.append(vector)\n",
        "  return array(encoding)\n",
        "\n",
        "#Decode a one hot vector string\n",
        "def one_hot_decode(encoded_seq):\n",
        "  return [argmax(vector) for vector in encoded_seq]\n"
      ],
      "execution_count": 0,
      "outputs": []
    },
    {
      "metadata": {
        "id": "eMFKqfMrFdFl",
        "colab_type": "code",
        "colab": {
          "autoexec": {
            "startup": false,
            "wait_interval": 0
          }
        }
      },
      "cell_type": "code",
      "source": [
        ""
      ],
      "execution_count": 0,
      "outputs": []
    },
    {
      "metadata": {
        "id": "U9Nc6m1VFfVH",
        "colab_type": "text"
      },
      "cell_type": "markdown",
      "source": [
        "## Generate Example for LSTM"
      ]
    },
    {
      "metadata": {
        "id": "2BroX4KQFiwE",
        "colab_type": "code",
        "colab": {
          "autoexec": {
            "startup": false,
            "wait_interval": 0
          },
          "output_extras": [
            {
              "item_id": 1
            }
          ],
          "base_uri": "https://localhost:8080/",
          "height": 51
        },
        "outputId": "09dfcd15-29fc-496f-cb06-b68ea28535e7",
        "executionInfo": {
          "status": "ok",
          "timestamp": 1520672198568,
          "user_tz": -330,
          "elapsed": 1092,
          "user": {
            "displayName": "Ashutosh Kumar",
            "photoUrl": "//lh5.googleusercontent.com/-sSZTgwMJNao/AAAAAAAAAAI/AAAAAAAAAAA/VMUyhA0SnHo/s50-c-k-no/photo.jpg",
            "userId": "107587871569102485174"
          }
        }
      },
      "cell_type": "code",
      "source": [
        "def generate_example(length, n_features, out_index):\n",
        "  #generate sequence'\n",
        "  sequence = generate_sequence(length, n_features)\n",
        "  #one hot encode\n",
        "  encoded = one_hot_encode(sequence, n_features)\n",
        "  #reshape sequence to 3D\n",
        "  X= encoded.reshape((1, length, n_features))\n",
        "  #select output\n",
        "  y= encoded[out_index].reshape(1,n_features)\n",
        "  return X,y\n",
        "\n",
        "X,y = generate_example(25,100,2)\n",
        "print(X.shape)\n",
        "#print(X)\n",
        "print(y.shape)\n",
        "\n",
        "#print(y)"
      ],
      "execution_count": 4,
      "outputs": [
        {
          "output_type": "stream",
          "text": [
            "(1, 25, 100)\n",
            "(1, 100)\n"
          ],
          "name": "stdout"
        }
      ]
    },
    {
      "metadata": {
        "id": "t5whgaRrH7a1",
        "colab_type": "code",
        "colab": {
          "autoexec": {
            "startup": false,
            "wait_interval": 0
          },
          "output_extras": [
            {
              "item_id": 1
            }
          ],
          "base_uri": "https://localhost:8080/",
          "height": 34
        },
        "outputId": "41a67a49-c301-4119-b839-698adab8686f",
        "executionInfo": {
          "status": "ok",
          "timestamp": 1520672398191,
          "user_tz": -330,
          "elapsed": 1032,
          "user": {
            "displayName": "Ashutosh Kumar",
            "photoUrl": "//lh5.googleusercontent.com/-sSZTgwMJNao/AAAAAAAAAAI/AAAAAAAAAAA/VMUyhA0SnHo/s50-c-k-no/photo.jpg",
            "userId": "107587871569102485174"
          }
        }
      },
      "cell_type": "code",
      "source": [
        "#pip install keras\n",
        "\n",
        "from keras.models import Sequential\n",
        "from keras.layers import LSTM,Dense\n",
        "#Define the model\n",
        "length = 5\n",
        "n_features=10\n",
        "out_index=2\n",
        "\n",
        "model=Sequential()\n",
        "model.add(LSTM(25,input_shape=(length,n_features)))\n",
        "model.add(Dense(n_features, activation='softmax'))\n",
        "model.compile(loss='categorical_crossentropy', optimizer = 'adam', metrics=['acc'])\n",
        "print(model.summary)"
      ],
      "execution_count": 9,
      "outputs": [
        {
          "output_type": "stream",
          "text": [
            "<bound method Sequential.summary of <keras.models.Sequential object at 0x7fa75f417d90>>\n"
          ],
          "name": "stdout"
        }
      ]
    },
    {
      "metadata": {
        "id": "Ft_cQZF4I56E",
        "colab_type": "code",
        "colab": {
          "autoexec": {
            "startup": false,
            "wait_interval": 0
          }
        }
      },
      "cell_type": "code",
      "source": [
        "#fit Model\n",
        "for i in range(10000):\n",
        "  X,y = generate_example(length,n_features,out_index)\n",
        "  model.fit(X,y,epochs=1,verbose=0)\n",
        "  "
      ],
      "execution_count": 0,
      "outputs": []
    },
    {
      "metadata": {
        "id": "vHxHXIcVJMbc",
        "colab_type": "code",
        "colab": {
          "autoexec": {
            "startup": false,
            "wait_interval": 0
          },
          "output_extras": [
            {
              "item_id": 1
            }
          ],
          "base_uri": "https://localhost:8080/",
          "height": 34
        },
        "outputId": "db7b6073-e496-490f-8cdf-7912bb20d125",
        "executionInfo": {
          "status": "ok",
          "timestamp": 1520676218478,
          "user_tz": -330,
          "elapsed": 1002,
          "user": {
            "displayName": "Ashutosh Kumar",
            "photoUrl": "//lh5.googleusercontent.com/-sSZTgwMJNao/AAAAAAAAAAI/AAAAAAAAAAA/VMUyhA0SnHo/s50-c-k-no/photo.jpg",
            "userId": "107587871569102485174"
          }
        }
      },
      "cell_type": "code",
      "source": [
        "#evaluate model\n",
        "correct =0\n",
        "for i in range(100):\n",
        "  X,y = generate_example(length, n_features, out_index)\n",
        "  yhat = model.predict(X)\n",
        "  if one_hot_decode(yhat)==one_hot_decode(y):\n",
        "    correct+=1\n",
        "print(\"Accuracy: %f\" %((correct/100)*100.0))"
      ],
      "execution_count": 18,
      "outputs": [
        {
          "output_type": "stream",
          "text": [
            "Accuracy: 100.000000\n"
          ],
          "name": "stdout"
        }
      ]
    },
    {
      "metadata": {
        "id": "VmCT3ruoJzPc",
        "colab_type": "code",
        "colab": {
          "autoexec": {
            "startup": false,
            "wait_interval": 0
          },
          "output_extras": [
            {
              "item_id": 1
            }
          ],
          "base_uri": "https://localhost:8080/",
          "height": 68
        },
        "outputId": "aa0e621b-0b5a-4166-ee13-34f367429d0a",
        "executionInfo": {
          "status": "ok",
          "timestamp": 1520676220460,
          "user_tz": -330,
          "elapsed": 1021,
          "user": {
            "displayName": "Ashutosh Kumar",
            "photoUrl": "//lh5.googleusercontent.com/-sSZTgwMJNao/AAAAAAAAAAI/AAAAAAAAAAA/VMUyhA0SnHo/s50-c-k-no/photo.jpg",
            "userId": "107587871569102485174"
          }
        }
      },
      "cell_type": "code",
      "source": [
        "# prediction on new data\n",
        "X, y = generate_example(length, n_features, out_index)\n",
        "yhat = model.predict(X)\n",
        "print( 'Sequence: %s' % [one_hot_decode(x) for x in X])\n",
        "print( 'Expected: %s' % one_hot_decode(y))\n",
        "print( 'Predicted: %s' % one_hot_decode(yhat))"
      ],
      "execution_count": 19,
      "outputs": [
        {
          "output_type": "stream",
          "text": [
            "Sequence: [[7, 4, 3, 9, 4]]\n",
            "Expected: [3]\n",
            "Predicted: [3]\n"
          ],
          "name": "stdout"
        }
      ]
    },
    {
      "metadata": {
        "id": "AQjk7aumXBQT",
        "colab_type": "code",
        "colab": {
          "autoexec": {
            "startup": false,
            "wait_interval": 0
          }
        }
      },
      "cell_type": "code",
      "source": [
        ""
      ],
      "execution_count": 0,
      "outputs": []
    }
  ]
}