{
 "cells": [
  {
   "cell_type": "code",
   "execution_count": 1,
   "metadata": {
    "collapsed": true
   },
   "outputs": [],
   "source": [
    "path = \"D:/DeepLearning/datasets/HandSign/\""
   ]
  },
  {
   "cell_type": "code",
   "execution_count": 2,
   "metadata": {
    "collapsed": true
   },
   "outputs": [],
   "source": [
    "import pandas as pd\n",
    "import numpy as np\n",
    "import h5py"
   ]
  },
  {
   "cell_type": "code",
   "execution_count": 6,
   "metadata": {},
   "outputs": [],
   "source": [
    "def load_dataset():\n",
    "    train_dataset = h5py.File(path+'data/train_signs.h5', \"r\")\n",
    "    train_set_x_orig = np.array(train_dataset[\"train_set_x\"][:]) # your train set features\n",
    "    train_set_y_orig = np.array(train_dataset[\"train_set_y\"][:]) # your train set labels\n",
    "\n",
    "    test_dataset = h5py.File(path+'data/test_signs.h5', \"r\")\n",
    "    test_set_x_orig = np.array(test_dataset[\"test_set_x\"][:]) # your test set features\n",
    "    test_set_y_orig = np.array(test_dataset[\"test_set_y\"][:]) # your test set labels\n",
    "\n",
    "    #classes = np.array(test_dataset[\"list_classes\"][:]) # the list of classes\n",
    "    \n",
    "    train_set_y_orig = train_set_y_orig.reshape((1, train_set_y_orig.shape[0]))\n",
    "    test_set_y_orig = test_set_y_orig.reshape((1, test_set_y_orig.shape[0]))\n",
    "    \n",
    "    return train_set_x_orig, train_set_y_orig,test_set_x_orig,test_set_y_orig"
   ]
  },
  {
   "cell_type": "code",
   "execution_count": 30,
   "metadata": {},
   "outputs": [],
   "source": [
    "train_x, train_y, test_x, test_y = load_dataset()"
   ]
  },
  {
   "cell_type": "code",
   "execution_count": 34,
   "metadata": {},
   "outputs": [
    {
     "data": {
      "text/plain": [
       "array([0, 1, 2, 3, 4, 5], dtype=int64)"
      ]
     },
     "execution_count": 34,
     "metadata": {},
     "output_type": "execute_result"
    }
   ],
   "source": [
    "np.unique(train_y)"
   ]
  },
  {
   "cell_type": "code",
   "execution_count": 35,
   "metadata": {},
   "outputs": [
    {
     "name": "stdout",
     "output_type": "stream",
     "text": [
      "4\n"
     ]
    },
    {
     "data": {
      "text/plain": [
       "<matplotlib.image.AxesImage at 0x1fe929d7748>"
      ]
     },
     "execution_count": 35,
     "metadata": {},
     "output_type": "execute_result"
    },
    {
     "data": {
      "image/png": "[encoded data removed]",
      "text/plain": [
       "<matplotlib.figure.Figure at 0x1fe9290a898>"
      ]
     },
     "metadata": {},
     "output_type": "display_data"
    }
   ],
   "source": [
    "import matplotlib.pyplot as plt\n",
    "%matplotlib inline\n",
    "print(train_y[0,43])\n",
    "plt.imshow(train_x[43])"
   ]
  },
  {
   "cell_type": "markdown",
   "metadata": {},
   "source": [
    "#### Shapes of input Files"
   ]
  },
  {
   "cell_type": "code",
   "execution_count": 36,
   "metadata": {},
   "outputs": [
    {
     "name": "stdout",
     "output_type": "stream",
     "text": [
      "Train X: (1080, 64, 64, 3)\n",
      "Train Y: (1, 1080)\n",
      "Test X: (120, 64, 64, 3)\n",
      "Test Y: (1, 120)\n"
     ]
    }
   ],
   "source": [
    "print(\"Train X:\", train_x.shape)\n",
    "print(\"Train Y:\", train_y.shape)\n",
    "print(\"Test X:\", test_x.shape)\n",
    "print(\"Test Y:\", test_y.shape)"
   ]
  },
  {
   "cell_type": "markdown",
   "metadata": {},
   "source": [
    "#### Data needs to be reshaped and normalized before runnning any CNN for classification"
   ]
  },
  {
   "cell_type": "code",
   "execution_count": 37,
   "metadata": {
    "collapsed": true
   },
   "outputs": [],
   "source": [
    "train_y = train_y.reshape(train_y.shape[1])\n",
    "test_y = test_y.reshape(test_y.shape[1])\n",
    "\n",
    "#### Keras: Channel last - Images already in the format"
   ]
  },
  {
   "cell_type": "code",
   "execution_count": 38,
   "metadata": {},
   "outputs": [],
   "source": [
    "#COnverting Y values to one hot encoding\n",
    "from keras.utils import np_utils"
   ]
  },
  {
   "cell_type": "code",
   "execution_count": 39,
   "metadata": {
    "collapsed": true
   },
   "outputs": [],
   "source": [
    "train_y = np_utils.to_categorical(train_y)\n",
    "test_y = np_utils.to_categorical(test_y)"
   ]
  },
  {
   "cell_type": "code",
   "execution_count": 40,
   "metadata": {},
   "outputs": [
    {
     "name": "stderr",
     "output_type": "stream",
     "text": [
      "C:\\Users\\Ashutosh\\AppData\\Local\\conda\\conda\\envs\\tensorflow\\lib\\site-packages\\ipykernel\\__main__.py:2: DeprecationWarning: Numeric-style type codes are deprecated and will result in an error in the future.\n",
      "  from ipykernel import kernelapp as app\n",
      "C:\\Users\\Ashutosh\\AppData\\Local\\conda\\conda\\envs\\tensorflow\\lib\\site-packages\\ipykernel\\__main__.py:3: DeprecationWarning: Numeric-style type codes are deprecated and will result in an error in the future.\n",
      "  app.launch_new_instance()\n"
     ]
    }
   ],
   "source": [
    "#### Normalize inputs and convert to Float\n",
    "train_x = train_x.astype('Float32')\n",
    "test_x = test_x.astype('Float32')\n",
    "train_x/=255\n",
    "test_x/=255"
   ]
  },
  {
   "cell_type": "markdown",
   "metadata": {},
   "source": [
    "#### Build Convolutional Neural Network"
   ]
  },
  {
   "cell_type": "code",
   "execution_count": 47,
   "metadata": {
    "collapsed": true
   },
   "outputs": [],
   "source": [
    "from keras.models import Sequential\n",
    "from keras.layers import Dense, Flatten, Dropout\n",
    "from keras.layers import Conv2D, MaxPooling2D\n",
    "import keras\n"
   ]
  },
  {
   "cell_type": "code",
   "execution_count": 84,
   "metadata": {},
   "outputs": [],
   "source": [
    "## Model Parameters\n",
    "batch_size=16\n",
    "epochs=50\n",
    "input_shape = (64,64,3)"
   ]
  },
  {
   "cell_type": "code",
   "execution_count": 45,
   "metadata": {},
   "outputs": [],
   "source": [
    "model = Sequential()\n",
    "model.add(Conv2D(32, kernel_size=(3,3), activation='relu',input_shape=input_shape))\n",
    "model.add(Conv2D(64,kernel_size=(3,3), activation='relu'))\n",
    "model.add(MaxPooling2D(pool_size=(2,2)))\n",
    "model.add(Flatten())\n",
    "model.add(Dense(128, activation='relu'))\n",
    "model.add(Dense(6, activation='softmax'))\n"
   ]
  },
  {
   "cell_type": "code",
   "execution_count": 48,
   "metadata": {},
   "outputs": [],
   "source": [
    "model.compile(loss = keras.losses.categorical_crossentropy, optimizer = keras.optimizers.adam(), metrics = ['accuracy'])"
   ]
  },
  {
   "cell_type": "code",
   "execution_count": 49,
   "metadata": {},
   "outputs": [
    {
     "name": "stdout",
     "output_type": "stream",
     "text": [
      "Train on 1080 samples, validate on 120 samples\n",
      "Epoch 1/10\n",
      "1080/1080 [==============================] - 4s - loss: 1.8415 - acc: 0.3519 - val_loss: 1.2717 - val_acc: 0.5917\n",
      "Epoch 2/10\n",
      "1080/1080 [==============================] - 1s - loss: 1.0641 - acc: 0.6259 - val_loss: 0.9795 - val_acc: 0.6917\n",
      "Epoch 3/10\n",
      "1080/1080 [==============================] - 1s - loss: 0.6289 - acc: 0.7870 - val_loss: 0.7610 - val_acc: 0.7250\n",
      "Epoch 4/10\n",
      "1080/1080 [==============================] - 1s - loss: 0.4368 - acc: 0.8667 - val_loss: 0.5260 - val_acc: 0.8333\n",
      "Epoch 5/10\n",
      "1080/1080 [==============================] - 1s - loss: 0.2430 - acc: 0.9296 - val_loss: 0.5386 - val_acc: 0.8417\n",
      "Epoch 6/10\n",
      "1080/1080 [==============================] - 1s - loss: 0.1458 - acc: 0.9657 - val_loss: 0.3639 - val_acc: 0.8417\n",
      "Epoch 7/10\n",
      "1080/1080 [==============================] - 1s - loss: 0.0727 - acc: 0.9861 - val_loss: 0.3944 - val_acc: 0.8500\n",
      "Epoch 8/10\n",
      "1080/1080 [==============================] - 1s - loss: 0.0556 - acc: 0.9926 - val_loss: 0.3433 - val_acc: 0.9000\n",
      "Epoch 9/10\n",
      "1080/1080 [==============================] - 1s - loss: 0.0297 - acc: 0.9972 - val_loss: 0.3088 - val_acc: 0.8917\n",
      "Epoch 10/10\n",
      "1080/1080 [==============================] - 1s - loss: 0.0141 - acc: 0.9991 - val_loss: 0.3141 - val_acc: 0.8917\n",
      "Test Loss: 0.314121878147\n",
      "Test Accuracy 0.89166667064\n"
     ]
    }
   ],
   "source": [
    "#Fit Model\n",
    "model.fit(train_x,train_y, batch_size=batch_size, epochs = epochs,\n",
    "          verbose=1, validation_data = (test_x, test_y))\n",
    "\n",
    "#Score Model\n",
    "score = model.evaluate(test_x, test_y, verbose=0)\n",
    "\n",
    "print(\"Test Loss:\", score[0])\n",
    "print(\"Test Accuracy\", score[1])"
   ]
  },
  {
   "cell_type": "code",
   "execution_count": 61,
   "metadata": {},
   "outputs": [],
   "source": [
    "#plt.imshow(test_x[7])\n",
    "pred = model.predict(test_x)"
   ]
  },
  {
   "cell_type": "code",
   "execution_count": 62,
   "metadata": {},
   "outputs": [
    {
     "data": {
      "text/plain": [
       "(120, 6)"
      ]
     },
     "execution_count": 62,
     "metadata": {},
     "output_type": "execute_result"
    }
   ],
   "source": [
    "pred.shape"
   ]
  },
  {
   "cell_type": "code",
   "execution_count": 68,
   "metadata": {},
   "outputs": [],
   "source": [
    "out = []\n",
    "for i in range(pred.shape[0]):\n",
    "    out.append(np.argmax(pred[i]))"
   ]
  },
  {
   "cell_type": "code",
   "execution_count": 79,
   "metadata": {},
   "outputs": [
    {
     "data": {
      "image/png": "[encoded data removed]",
      "text/plain": [
       "<matplotlib.figure.Figure at 0x1ff6baa5438>"
      ]
     },
     "metadata": {},
     "output_type": "display_data"
    }
   ],
   "source": [
    "plt.subplots(2,2)\n",
    "for i in range(0,4):\n",
    "    plt.subplot(2,2,i+1)\n",
    "    plt.title(out[i])\n",
    "    plt.imshow(test_x[i])"
   ]
  },
  {
   "cell_type": "markdown",
   "metadata": {},
   "source": [
    "#### 89% Accuracy with a basic CNN"
   ]
  },
  {
   "cell_type": "markdown",
   "metadata": {},
   "source": [
    "### CNN: Deep Network to improve accuracy\n"
   ]
  },
  {
   "cell_type": "code",
   "execution_count": 85,
   "metadata": {},
   "outputs": [],
   "source": [
    "#New Model:\n",
    "from keras.layers import Activation\n",
    "\n",
    "model = Sequential()\n",
    "model.add(Conv2D(32, (3, 3), padding='same',\n",
    "                 input_shape=input_shape))\n",
    "model.add(Activation('relu'))\n",
    "model.add(Conv2D(32, (3, 3)))\n",
    "model.add(Activation('relu'))\n",
    "model.add(MaxPooling2D(pool_size=(2, 2)))\n",
    "model.add(Dropout(0.25))\n",
    "\n",
    "model.add(Conv2D(64, (3, 3), padding='same'))\n",
    "model.add(Activation('relu'))\n",
    "model.add(Conv2D(64, (3, 3)))\n",
    "model.add(Activation('relu'))\n",
    "model.add(MaxPooling2D(pool_size=(2, 2)))\n",
    "model.add(Dropout(0.25))\n",
    "\n",
    "model.add(Flatten())\n",
    "model.add(Dense(512))\n",
    "model.add(Activation('relu'))\n",
    "model.add(Dropout(0.5))\n",
    "model.add(Dense(6))\n",
    "model.add(Activation('softmax'))"
   ]
  },
  {
   "cell_type": "code",
   "execution_count": 86,
   "metadata": {
    "collapsed": true
   },
   "outputs": [],
   "source": [
    "model.compile(loss = keras.losses.categorical_crossentropy, optimizer = keras.optimizers.adam(), metrics = ['accuracy'])"
   ]
  },
  {
   "cell_type": "code",
   "execution_count": 87,
   "metadata": {},
   "outputs": [
    {
     "name": "stdout",
     "output_type": "stream",
     "text": [
      "Train on 1080 samples, validate on 120 samples\n",
      "Epoch 1/50\n",
      "1080/1080 [==============================] - 2s - loss: 1.8159 - acc: 0.1472 - val_loss: 1.7918 - val_acc: 0.1667\n",
      "Epoch 2/50\n",
      "1080/1080 [==============================] - 2s - loss: 1.7877 - acc: 0.1889 - val_loss: 1.7817 - val_acc: 0.1667\n",
      "Epoch 3/50\n",
      "1080/1080 [==============================] - 2s - loss: 1.4536 - acc: 0.3991 - val_loss: 1.2148 - val_acc: 0.5667\n",
      "Epoch 4/50\n",
      "1080/1080 [==============================] - 2s - loss: 1.0156 - acc: 0.6435 - val_loss: 0.8590 - val_acc: 0.7000\n",
      "Epoch 5/50\n",
      "1080/1080 [==============================] - 2s - loss: 0.7036 - acc: 0.7556 - val_loss: 0.5890 - val_acc: 0.8000\n",
      "Epoch 6/50\n",
      "1080/1080 [==============================] - 2s - loss: 0.5017 - acc: 0.8287 - val_loss: 0.4353 - val_acc: 0.8667\n",
      "Epoch 7/50\n",
      "1080/1080 [==============================] - 2s - loss: 0.3611 - acc: 0.8741 - val_loss: 0.3516 - val_acc: 0.8833\n",
      "Epoch 8/50\n",
      "1080/1080 [==============================] - 2s - loss: 0.2942 - acc: 0.8991 - val_loss: 0.3288 - val_acc: 0.8917\n",
      "Epoch 9/50\n",
      "1080/1080 [==============================] - 2s - loss: 0.2306 - acc: 0.9231 - val_loss: 0.3078 - val_acc: 0.8833\n",
      "Epoch 10/50\n",
      "1080/1080 [==============================] - 2s - loss: 0.1485 - acc: 0.9444 - val_loss: 0.3029 - val_acc: 0.9000\n",
      "Epoch 11/50\n",
      "1080/1080 [==============================] - 2s - loss: 0.1175 - acc: 0.9583 - val_loss: 0.3642 - val_acc: 0.8917\n",
      "Epoch 12/50\n",
      "1080/1080 [==============================] - 2s - loss: 0.1414 - acc: 0.9556 - val_loss: 0.2777 - val_acc: 0.9250\n",
      "Epoch 13/50\n",
      "1080/1080 [==============================] - 2s - loss: 0.1067 - acc: 0.9630 - val_loss: 0.2800 - val_acc: 0.9333\n",
      "Epoch 14/50\n",
      "1080/1080 [==============================] - 2s - loss: 0.0952 - acc: 0.9685 - val_loss: 0.3546 - val_acc: 0.8750\n",
      "Epoch 15/50\n",
      "1080/1080 [==============================] - 2s - loss: 0.0886 - acc: 0.9741 - val_loss: 0.4533 - val_acc: 0.9000\n",
      "Epoch 16/50\n",
      "1080/1080 [==============================] - 2s - loss: 0.0939 - acc: 0.9722 - val_loss: 0.3090 - val_acc: 0.9250\n",
      "Epoch 17/50\n",
      "1080/1080 [==============================] - 2s - loss: 0.0738 - acc: 0.9759 - val_loss: 0.2753 - val_acc: 0.9167\n",
      "Epoch 18/50\n",
      "1080/1080 [==============================] - 2s - loss: 0.0703 - acc: 0.9778 - val_loss: 0.2997 - val_acc: 0.9250\n",
      "Epoch 19/50\n",
      "1080/1080 [==============================] - 2s - loss: 0.0419 - acc: 0.9870 - val_loss: 0.3966 - val_acc: 0.9083\n",
      "Epoch 20/50\n",
      "1080/1080 [==============================] - 2s - loss: 0.0787 - acc: 0.9731 - val_loss: 0.4255 - val_acc: 0.8667\n",
      "Epoch 21/50\n",
      "1080/1080 [==============================] - 2s - loss: 0.1018 - acc: 0.9667 - val_loss: 0.3123 - val_acc: 0.9000\n",
      "Epoch 22/50\n",
      "1080/1080 [==============================] - 2s - loss: 0.0948 - acc: 0.9713 - val_loss: 0.2677 - val_acc: 0.9250\n",
      "Epoch 23/50\n",
      "1080/1080 [==============================] - 2s - loss: 0.0465 - acc: 0.9824 - val_loss: 0.3014 - val_acc: 0.9500\n",
      "Epoch 24/50\n",
      "1080/1080 [==============================] - 2s - loss: 0.0422 - acc: 0.9833 - val_loss: 0.3397 - val_acc: 0.8917\n",
      "Epoch 25/50\n",
      "1080/1080 [==============================] - 2s - loss: 0.0562 - acc: 0.9815 - val_loss: 0.3306 - val_acc: 0.9083\n",
      "Epoch 26/50\n",
      "1080/1080 [==============================] - 2s - loss: 0.0585 - acc: 0.9824 - val_loss: 0.2320 - val_acc: 0.9250\n",
      "Epoch 27/50\n",
      "1080/1080 [==============================] - 2s - loss: 0.0426 - acc: 0.9861 - val_loss: 0.2743 - val_acc: 0.9250\n",
      "Epoch 28/50\n",
      "1080/1080 [==============================] - 2s - loss: 0.0242 - acc: 0.9944 - val_loss: 0.3463 - val_acc: 0.9000\n",
      "Epoch 29/50\n",
      "1080/1080 [==============================] - 1s - loss: 0.0377 - acc: 0.9861 - val_loss: 0.3667 - val_acc: 0.9167\n",
      "Epoch 30/50\n",
      "1080/1080 [==============================] - 1s - loss: 0.0413 - acc: 0.9870 - val_loss: 0.3618 - val_acc: 0.9250\n",
      "Epoch 31/50\n",
      "1080/1080 [==============================] - 1s - loss: 0.0737 - acc: 0.9722 - val_loss: 0.5053 - val_acc: 0.9000\n",
      "Epoch 32/50\n",
      "1080/1080 [==============================] - 1s - loss: 0.0347 - acc: 0.9898 - val_loss: 0.2951 - val_acc: 0.9333\n",
      "Epoch 33/50\n",
      "1080/1080 [==============================] - 1s - loss: 0.0452 - acc: 0.9861 - val_loss: 0.2323 - val_acc: 0.9250\n",
      "Epoch 34/50\n",
      "1080/1080 [==============================] - 1s - loss: 0.0448 - acc: 0.9861 - val_loss: 0.3376 - val_acc: 0.9250\n",
      "Epoch 35/50\n",
      "1080/1080 [==============================] - 2s - loss: 0.0206 - acc: 0.9954 - val_loss: 0.2775 - val_acc: 0.9417\n",
      "Epoch 36/50\n",
      "1080/1080 [==============================] - 2s - loss: 0.0321 - acc: 0.9889 - val_loss: 0.3646 - val_acc: 0.9250\n",
      "Epoch 37/50\n",
      "1080/1080 [==============================] - 2s - loss: 0.0171 - acc: 0.9935 - val_loss: 0.3457 - val_acc: 0.9417\n",
      "Epoch 38/50\n",
      "1080/1080 [==============================] - 2s - loss: 0.0148 - acc: 0.9954 - val_loss: 0.4095 - val_acc: 0.9250\n",
      "Epoch 39/50\n",
      "1080/1080 [==============================] - 2s - loss: 0.0124 - acc: 0.9954 - val_loss: 0.3647 - val_acc: 0.9417\n",
      "Epoch 40/50\n",
      "1080/1080 [==============================] - 2s - loss: 0.0468 - acc: 0.9796 - val_loss: 0.3163 - val_acc: 0.9333\n",
      "Epoch 41/50\n",
      "1080/1080 [==============================] - 2s - loss: 0.0536 - acc: 0.9796 - val_loss: 0.2745 - val_acc: 0.9250\n",
      "Epoch 42/50\n",
      "1080/1080 [==============================] - 2s - loss: 0.0453 - acc: 0.9880 - val_loss: 0.2594 - val_acc: 0.9500\n",
      "Epoch 43/50\n",
      "1080/1080 [==============================] - 2s - loss: 0.0248 - acc: 0.9917 - val_loss: 0.1953 - val_acc: 0.9500\n",
      "Epoch 44/50\n",
      "1080/1080 [==============================] - 2s - loss: 0.0205 - acc: 0.9907 - val_loss: 0.3098 - val_acc: 0.9333\n",
      "Epoch 45/50\n",
      "1080/1080 [==============================] - 2s - loss: 0.0332 - acc: 0.9898 - val_loss: 0.2728 - val_acc: 0.9417\n",
      "Epoch 46/50\n",
      "1080/1080 [==============================] - 2s - loss: 0.0273 - acc: 0.9898 - val_loss: 0.2448 - val_acc: 0.9500\n",
      "Epoch 47/50\n",
      "1080/1080 [==============================] - 2s - loss: 0.0362 - acc: 0.9870 - val_loss: 0.3017 - val_acc: 0.9083\n",
      "Epoch 48/50\n",
      "1080/1080 [==============================] - 2s - loss: 0.0121 - acc: 0.9963 - val_loss: 0.2296 - val_acc: 0.9333\n",
      "Epoch 49/50\n",
      "1080/1080 [==============================] - 2s - loss: 0.0184 - acc: 0.9935 - val_loss: 0.2996 - val_acc: 0.9083\n",
      "Epoch 50/50\n",
      "1080/1080 [==============================] - 2s - loss: 0.0478 - acc: 0.9833 - val_loss: 0.3579 - val_acc: 0.9167\n",
      "Test Loss: 0.357901225487\n",
      "Test Accuracy 0.91666667064\n"
     ]
    }
   ],
   "source": [
    "#Fit Model\n",
    "model.fit(train_x,train_y, batch_size=batch_size, epochs = epochs,\n",
    "          verbose=1, validation_data = (test_x, test_y))\n",
    "\n",
    "#Score Model\n",
    "score = model.evaluate(test_x, test_y, verbose=0)\n",
    "\n",
    "print(\"Test Loss:\", score[0])\n",
    "print(\"Test Accuracy\", score[1])"
   ]
  },
  {
   "cell_type": "markdown",
   "metadata": {},
   "source": [
    "#### 91% Accuracy with a Deeper Model"
   ]
  },
  {
   "cell_type": "markdown",
   "metadata": {},
   "source": [
    "## RESNETS"
   ]
  },
  {
   "cell_type": "code",
   "execution_count": 90,
   "metadata": {},
   "outputs": [],
   "source": [
    "import numpy as np\n",
    "from keras import layers\n",
    "from keras.layers import Input, Add, Dense, Activation, ZeroPadding2D, BatchNormalization, Flatten, Conv2D, AveragePooling2D, MaxPooling2D, GlobalMaxPooling2D\n",
    "from keras.models import Model, load_model\n",
    "from keras.preprocessing import image\n",
    "from keras.utils import layer_utils\n",
    "from keras.utils.data_utils import get_file\n",
    "from keras.applications.imagenet_utils import preprocess_input\n",
    "#import pydot\n",
    "from IPython.display import SVG\n",
    "from keras.utils.vis_utils import model_to_dot\n",
    "from keras.utils import plot_model\n",
    "#from resnets_utils import *\n",
    "from keras.initializers import glorot_uniform\n",
    "import scipy.misc\n",
    "from matplotlib.pyplot import imshow\n",
    "%matplotlib inline\n",
    "\n",
    "import keras.backend as K\n",
    "K.set_image_data_format('channels_last')\n",
    "K.set_learning_phase(1)"
   ]
  },
  {
   "cell_type": "code",
   "execution_count": 91,
   "metadata": {
    "collapsed": true
   },
   "outputs": [],
   "source": [
    "def identity_block(X, f, filters, stage, block):\n",
    "    \"\"\"\n",
    "    Implementation of the identity block as defined in Figure 3\n",
    "    \n",
    "    Arguments:\n",
    "    X -- input tensor of shape (m, n_H_prev, n_W_prev, n_C_prev)\n",
    "    f -- integer, specifying the shape of the middle CONV's window for the main path\n",
    "    filters -- python list of integers, defining the number of filters in the CONV layers of the main path\n",
    "    stage -- integer, used to name the layers, depending on their position in the network\n",
    "    block -- string/character, used to name the layers, depending on their position in the network\n",
    "    \n",
    "    Returns:\n",
    "    X -- output of the identity block, tensor of shape (n_H, n_W, n_C)\n",
    "    \"\"\"\n",
    "    \n",
    "    # defining name basis\n",
    "    conv_name_base = 'res' + str(stage) + block + '_branch'\n",
    "    bn_name_base = 'bn' + str(stage) + block + '_branch'\n",
    "    \n",
    "    # Retrieve Filters\n",
    "    F1, F2, F3 = filters\n",
    "    \n",
    "    # Save the input value. You'll need this later to add back to the main path. \n",
    "    X_shortcut = X\n",
    "    \n",
    "    # First component of main path\n",
    "    X = Conv2D(filters = F1, kernel_size = (1, 1), strides = (1,1), padding = 'valid', \n",
    "               name = conv_name_base + '2a', kernel_initializer = glorot_uniform(seed=0))(X)\n",
    "    X = BatchNormalization(axis = 3, name = bn_name_base + '2a')(X)\n",
    "    X = Activation('relu')(X)\n",
    "    \n",
    "    ### START CODE HERE ###\n",
    "    \n",
    "    # Second component of main path (≈3 lines)\n",
    "    X = Conv2D(filters=F2, kernel_size=(f,f), strides=(1,1), padding='same', \n",
    "               name=conv_name_base+'2b', kernel_initializer=glorot_uniform(seed=0))(X)\n",
    "    X = BatchNormalization(axis=3, name=bn_name_base+'2b')(X)\n",
    "    X = Activation('relu')(X)\n",
    "\n",
    "    # Third component of main path (≈2 lines)\n",
    "    X = Conv2D(filters=F3, kernel_size=(1,1), strides=(1,1), padding='valid',\n",
    "               name=conv_name_base+'2c', kernel_initializer=glorot_uniform(seed=0))(X)\n",
    "    X = BatchNormalization(axis=3, name=bn_name_base+'2c')(X)\n",
    "\n",
    "    # Final step: Add shortcut value to main path, and pass it through a RELU activation (≈2 lines)\n",
    "    X = Add()([X, X_shortcut])\n",
    "    X = Activation('relu')(X)\n",
    "    \n",
    "    ### END CODE HERE ###\n",
    "    \n",
    "    return X"
   ]
  },
  {
   "cell_type": "code",
   "execution_count": 93,
   "metadata": {
    "collapsed": true
   },
   "outputs": [],
   "source": [
    "\n",
    "def convolutional_block(X, f, filters, stage, block, s = 2):\n",
    "    \"\"\"\n",
    "    Implementation of the convolutional block as defined in Figure 4\n",
    "    \n",
    "    Arguments:\n",
    "    X -- input tensor of shape (m, n_H_prev, n_W_prev, n_C_prev)\n",
    "    f -- integer, specifying the shape of the middle CONV's window for the main path\n",
    "    filters -- python list of integers, defining the number of filters in the CONV layers of the main path\n",
    "    stage -- integer, used to name the layers, depending on their position in the network\n",
    "    block -- string/character, used to name the layers, depending on their position in the network\n",
    "    s -- Integer, specifying the stride to be used\n",
    "    \n",
    "    Returns:\n",
    "    X -- output of the convolutional block, tensor of shape (n_H, n_W, n_C)\n",
    "    \"\"\"\n",
    "    \n",
    "    # defining name basis\n",
    "    conv_name_base = 'res' + str(stage) + block + '_branch'\n",
    "    bn_name_base = 'bn' + str(stage) + block + '_branch'\n",
    "    \n",
    "    # Retrieve Filters\n",
    "    F1, F2, F3 = filters\n",
    "    \n",
    "    # Save the input value\n",
    "    X_shortcut = X\n",
    "\n",
    "\n",
    "    ##### MAIN PATH #####\n",
    "    # First component of main path \n",
    "    X = Conv2D(F1, (1, 1), strides = (s,s), name = conv_name_base + '2a', kernel_initializer = glorot_uniform(seed=0))(X)\n",
    "    X = BatchNormalization(axis = 3, name = bn_name_base + '2a')(X)\n",
    "    X = Activation('relu')(X)\n",
    "    \n",
    "    ### START CODE HERE ###\n",
    "\n",
    "    # Second component of main path (≈3 lines)\n",
    "    X = Conv2D(filters=F2, kernel_size=(f,f), strides=(1,1), padding='same', \n",
    "               name=conv_name_base+'2b', kernel_initializer=glorot_uniform(seed=0))(X)\n",
    "    X = BatchNormalization(axis=3, name=bn_name_base+'2b')(X)\n",
    "    X = Activation('relu')(X)\n",
    "\n",
    "    # Third component of main path (≈2 lines)\n",
    "    X = Conv2D(filters=F3, kernel_size=(1,1), strides=(1,1), padding='valid',\n",
    "               name=conv_name_base+'2c', kernel_initializer=glorot_uniform(seed=0))(X)\n",
    "    X = BatchNormalization(axis=3, name=bn_name_base+'2c')(X)\n",
    "\n",
    "    ##### SHORTCUT PATH #### (≈2 lines)\n",
    "    X_shortcut = Conv2D(filters=F3, kernel_size=(1,1), strides=(s,s), padding='valid',\n",
    "               name=conv_name_base+'1', kernel_initializer=glorot_uniform(seed=0))(X_shortcut)\n",
    "    X_shortcut = BatchNormalization(axis=3, name=bn_name_base+'1')(X_shortcut)\n",
    "\n",
    "    # Final step: Add shortcut value to main path, and pass it through a RELU activation (≈2 lines)\n",
    "    X = Add()([X, X_shortcut])\n",
    "    X = Activation('relu')(X)\n",
    "    \n",
    "    ### END CODE HERE ###\n",
    "    \n",
    "    return X"
   ]
  },
  {
   "cell_type": "code",
   "execution_count": 94,
   "metadata": {
    "collapsed": true
   },
   "outputs": [],
   "source": [
    "def ResNet50(input_shape = (64, 64, 3), classes = 6):\n",
    "    \"\"\"\n",
    "    Implementation of the popular ResNet50 the following architecture:\n",
    "    CONV2D -> BATCHNORM -> RELU -> MAXPOOL -> CONVBLOCK -> IDBLOCK*2 -> CONVBLOCK -> IDBLOCK*3\n",
    "    -> CONVBLOCK -> IDBLOCK*5 -> CONVBLOCK -> IDBLOCK*2 -> AVGPOOL -> TOPLAYER\n",
    "\n",
    "    Arguments:\n",
    "    input_shape -- shape of the images of the dataset\n",
    "    classes -- integer, number of classes\n",
    "\n",
    "    Returns:\n",
    "    model -- a Model() instance in Keras\n",
    "    \"\"\"\n",
    "    \n",
    "    # Define the input as a tensor with shape input_shape\n",
    "    X_input = Input(input_shape)\n",
    "\n",
    "    \n",
    "    # Zero-Padding\n",
    "    X = ZeroPadding2D((3, 3))(X_input)\n",
    "    \n",
    "    # Stage 1\n",
    "    X = Conv2D(64, (7, 7), strides = (2, 2), name = 'conv1', kernel_initializer = glorot_uniform(seed=0))(X)\n",
    "    X = BatchNormalization(axis = 3, name = 'bn_conv1')(X)\n",
    "    X = Activation('relu')(X)\n",
    "    X = MaxPooling2D((3, 3), strides=(2, 2))(X)\n",
    "\n",
    "    # Stage 2\n",
    "    X = convolutional_block(X, f = 3, filters = [64, 64, 256], stage = 2, block='a', s = 1)\n",
    "    X = identity_block(X, 3, [64, 64, 256], stage=2, block='b')\n",
    "    X = identity_block(X, 3, [64, 64, 256], stage=2, block='c')\n",
    "\n",
    "    ### START CODE HERE ###\n",
    "\n",
    "    # Stage 3 (≈4 lines)\n",
    "    X = convolutional_block(X, f = 3, filters= [128, 128, 512], stage = 3, block='a', s = 2)\n",
    "    X = identity_block(X, 3, [128, 128, 512], stage=3, block='b')\n",
    "    X = identity_block(X, 3, [128, 128, 512], stage=3, block='c')\n",
    "    X = identity_block(X, 3, [128, 128, 512], stage=3, block='d')\n",
    "\n",
    "    # Stage 4 (≈6 lines)\n",
    "    X = convolutional_block(X, f = 3, filters= [256, 256, 1024], stage = 4, block='a', s = 2)\n",
    "    X = identity_block(X, 3, [256, 256, 1024], stage=4, block='b')\n",
    "    X = identity_block(X, 3, [256, 256, 1024], stage=4, block='c')\n",
    "    X = identity_block(X, 3, [256, 256, 1024], stage=4, block='d')\n",
    "    X = identity_block(X, 3, [256, 256, 1024], stage=4, block='e')\n",
    "    X = identity_block(X, 3, [256, 256, 1024], stage=4, block='f')\n",
    "\n",
    "    # Stage 5 (≈3 lines)\n",
    "    X = convolutional_block(X, f = 3, filters= [512, 512, 2048], stage = 5, block='a', s = 2)\n",
    "    X = identity_block(X, 3, [512, 512, 2048], stage=5, block='b')\n",
    "    X = identity_block(X, 3, [512, 512, 2048], stage=5, block='c')\n",
    "\n",
    "    # AVGPOOL (≈1 line). Use \"X = AveragePooling2D(...)(X)\"\n",
    "    X = AveragePooling2D(pool_size=(2,2), name = 'avg_pool')(X)\n",
    "    \n",
    "    ### END CODE HERE ###\n",
    "\n",
    "    # output layer\n",
    "    X = Flatten()(X)\n",
    "    X = Dense(classes, activation='softmax', name='fc' + str(classes), kernel_initializer = glorot_uniform(seed=0))(X)\n",
    "    \n",
    "    \n",
    "    # Create model\n",
    "    model = Model(inputs = X_input, outputs = X, name='ResNet50')\n",
    "\n",
    "    return model"
   ]
  },
  {
   "cell_type": "code",
   "execution_count": 95,
   "metadata": {
    "collapsed": true
   },
   "outputs": [],
   "source": [
    "model = ResNet50(input_shape = (64, 64, 3), classes = 6)\n"
   ]
  },
  {
   "cell_type": "code",
   "execution_count": 96,
   "metadata": {
    "collapsed": true
   },
   "outputs": [],
   "source": [
    "model.compile(optimizer='adam', loss='categorical_crossentropy', metrics=['accuracy'])\n"
   ]
  },
  {
   "cell_type": "code",
   "execution_count": 99,
   "metadata": {},
   "outputs": [
    {
     "name": "stdout",
     "output_type": "stream",
     "text": [
      "Epoch 1/20\n",
      "1080/1080 [==============================] - 17s - loss: 2.8523 - acc: 0.3046    \n",
      "Epoch 2/20\n",
      "1080/1080 [==============================] - 4s - loss: 1.2635 - acc: 0.6000     \n",
      "Epoch 3/20\n",
      "1080/1080 [==============================] - 4s - loss: 0.5640 - acc: 0.8269     \n",
      "Epoch 4/20\n",
      "1080/1080 [==============================] - 4s - loss: 0.8545 - acc: 0.8111     \n",
      "Epoch 5/20\n",
      "1080/1080 [==============================] - 4s - loss: 0.5953 - acc: 0.8694     \n",
      "Epoch 6/20\n",
      "1080/1080 [==============================] - 4s - loss: 0.3299 - acc: 0.9259     \n",
      "Epoch 7/20\n",
      "1080/1080 [==============================] - 4s - loss: 0.3935 - acc: 0.9389     \n",
      "Epoch 8/20\n",
      "1080/1080 [==============================] - 4s - loss: 0.2360 - acc: 0.9574     \n",
      "Epoch 9/20\n",
      "1080/1080 [==============================] - 4s - loss: 0.2650 - acc: 0.9380     \n",
      "Epoch 10/20\n",
      "1080/1080 [==============================] - 4s - loss: 0.1860 - acc: 0.9556     \n",
      "Epoch 11/20\n",
      "1080/1080 [==============================] - 4s - loss: 0.1425 - acc: 0.9704     \n",
      "Epoch 12/20\n",
      "1080/1080 [==============================] - 4s - loss: 0.1178 - acc: 0.9704     \n",
      "Epoch 13/20\n",
      "1080/1080 [==============================] - 4s - loss: 0.1248 - acc: 0.9769     \n",
      "Epoch 14/20\n",
      "1080/1080 [==============================] - 4s - loss: 0.0537 - acc: 0.9870     \n",
      "Epoch 15/20\n",
      "1080/1080 [==============================] - 4s - loss: 0.0382 - acc: 0.9861     \n",
      "Epoch 16/20\n",
      "1080/1080 [==============================] - 4s - loss: 0.1705 - acc: 0.9657     \n",
      "Epoch 17/20\n",
      "1080/1080 [==============================] - 4s - loss: 0.0855 - acc: 0.9787     \n",
      "Epoch 18/20\n",
      "1080/1080 [==============================] - 4s - loss: 0.0562 - acc: 0.9852     \n",
      "Epoch 19/20\n",
      "1080/1080 [==============================] - 4s - loss: 0.0591 - acc: 0.9898     \n",
      "Epoch 20/20\n",
      "1080/1080 [==============================] - 4s - loss: 0.0530 - acc: 0.9954     \n"
     ]
    },
    {
     "data": {
      "text/plain": [
       "<keras.callbacks.History at 0x1ffa876c320>"
      ]
     },
     "execution_count": 99,
     "metadata": {},
     "output_type": "execute_result"
    }
   ],
   "source": [
    "model.fit(train_x, train_y, epochs = 20, batch_size = 128,verbose=1)\n"
   ]
  },
  {
   "cell_type": "code",
   "execution_count": 100,
   "metadata": {},
   "outputs": [
    {
     "name": "stdout",
     "output_type": "stream",
     "text": [
      "Test Loss: 0.847218505541\n",
      "Test Accuracy 0.916666666667\n"
     ]
    }
   ],
   "source": [
    "#Score Model\n",
    "score = model.evaluate(test_x, test_y, verbose=0)\n",
    "\n",
    "print(\"Test Loss:\", score[0])\n",
    "print(\"Test Accuracy\", score[1])"
   ]
  },
  {
   "cell_type": "markdown",
   "metadata": {},
   "source": [
    "### 91.6% Accuracy with Resnets"
   ]
  },
  {
   "cell_type": "code",
   "execution_count": 101,
   "metadata": {},
   "outputs": [
    {
     "name": "stdout",
     "output_type": "stream",
     "text": [
      "____________________________________________________________________________________________________\n",
      "Layer (type)                     Output Shape          Param #     Connected to                     \n",
      "====================================================================================================\n",
      "input_1 (InputLayer)             (None, 64, 64, 3)     0                                            \n",
      "____________________________________________________________________________________________________\n",
      "zero_padding2d_1 (ZeroPadding2D) (None, 70, 70, 3)     0           input_1[0][0]                    \n",
      "____________________________________________________________________________________________________\n",
      "conv1 (Conv2D)                   (None, 32, 32, 64)    9472        zero_padding2d_1[0][0]           \n",
      "____________________________________________________________________________________________________\n",
      "bn_conv1 (BatchNormalization)    (None, 32, 32, 64)    256         conv1[0][0]                      \n",
      "____________________________________________________________________________________________________\n",
      "activation_18 (Activation)       (None, 32, 32, 64)    0           bn_conv1[0][0]                   \n",
      "____________________________________________________________________________________________________\n",
      "max_pooling2d_8 (MaxPooling2D)   (None, 15, 15, 64)    0           activation_18[0][0]              \n",
      "____________________________________________________________________________________________________\n",
      "res2a_branch2a (Conv2D)          (None, 15, 15, 64)    4160        max_pooling2d_8[0][0]            \n",
      "____________________________________________________________________________________________________\n",
      "bn2a_branch2a (BatchNormalizatio (None, 15, 15, 64)    256         res2a_branch2a[0][0]             \n",
      "____________________________________________________________________________________________________\n",
      "activation_19 (Activation)       (None, 15, 15, 64)    0           bn2a_branch2a[0][0]              \n",
      "____________________________________________________________________________________________________\n",
      "res2a_branch2b (Conv2D)          (None, 15, 15, 64)    36928       activation_19[0][0]              \n",
      "____________________________________________________________________________________________________\n",
      "bn2a_branch2b (BatchNormalizatio (None, 15, 15, 64)    256         res2a_branch2b[0][0]             \n",
      "____________________________________________________________________________________________________\n",
      "activation_20 (Activation)       (None, 15, 15, 64)    0           bn2a_branch2b[0][0]              \n",
      "____________________________________________________________________________________________________\n",
      "res2a_branch2c (Conv2D)          (None, 15, 15, 256)   16640       activation_20[0][0]              \n",
      "____________________________________________________________________________________________________\n",
      "res2a_branch1 (Conv2D)           (None, 15, 15, 256)   16640       max_pooling2d_8[0][0]            \n",
      "____________________________________________________________________________________________________\n",
      "bn2a_branch2c (BatchNormalizatio (None, 15, 15, 256)   1024        res2a_branch2c[0][0]             \n",
      "____________________________________________________________________________________________________\n",
      "bn2a_branch1 (BatchNormalization (None, 15, 15, 256)   1024        res2a_branch1[0][0]              \n",
      "____________________________________________________________________________________________________\n",
      "add_1 (Add)                      (None, 15, 15, 256)   0           bn2a_branch2c[0][0]              \n",
      "                                                                   bn2a_branch1[0][0]               \n",
      "____________________________________________________________________________________________________\n",
      "activation_21 (Activation)       (None, 15, 15, 256)   0           add_1[0][0]                      \n",
      "____________________________________________________________________________________________________\n",
      "res2b_branch2a (Conv2D)          (None, 15, 15, 64)    16448       activation_21[0][0]              \n",
      "____________________________________________________________________________________________________\n",
      "bn2b_branch2a (BatchNormalizatio (None, 15, 15, 64)    256         res2b_branch2a[0][0]             \n",
      "____________________________________________________________________________________________________\n",
      "activation_22 (Activation)       (None, 15, 15, 64)    0           bn2b_branch2a[0][0]              \n",
      "____________________________________________________________________________________________________\n",
      "res2b_branch2b (Conv2D)          (None, 15, 15, 64)    36928       activation_22[0][0]              \n",
      "____________________________________________________________________________________________________\n",
      "bn2b_branch2b (BatchNormalizatio (None, 15, 15, 64)    256         res2b_branch2b[0][0]             \n",
      "____________________________________________________________________________________________________\n",
      "activation_23 (Activation)       (None, 15, 15, 64)    0           bn2b_branch2b[0][0]              \n",
      "____________________________________________________________________________________________________\n",
      "res2b_branch2c (Conv2D)          (None, 15, 15, 256)   16640       activation_23[0][0]              \n",
      "____________________________________________________________________________________________________\n",
      "bn2b_branch2c (BatchNormalizatio (None, 15, 15, 256)   1024        res2b_branch2c[0][0]             \n",
      "____________________________________________________________________________________________________\n",
      "add_2 (Add)                      (None, 15, 15, 256)   0           bn2b_branch2c[0][0]              \n",
      "                                                                   activation_21[0][0]              \n",
      "____________________________________________________________________________________________________\n",
      "activation_24 (Activation)       (None, 15, 15, 256)   0           add_2[0][0]                      \n",
      "____________________________________________________________________________________________________\n",
      "res2c_branch2a (Conv2D)          (None, 15, 15, 64)    16448       activation_24[0][0]              \n",
      "____________________________________________________________________________________________________\n",
      "bn2c_branch2a (BatchNormalizatio (None, 15, 15, 64)    256         res2c_branch2a[0][0]             \n",
      "____________________________________________________________________________________________________\n",
      "activation_25 (Activation)       (None, 15, 15, 64)    0           bn2c_branch2a[0][0]              \n",
      "____________________________________________________________________________________________________\n",
      "res2c_branch2b (Conv2D)          (None, 15, 15, 64)    36928       activation_25[0][0]              \n",
      "____________________________________________________________________________________________________\n",
      "bn2c_branch2b (BatchNormalizatio (None, 15, 15, 64)    256         res2c_branch2b[0][0]             \n",
      "____________________________________________________________________________________________________\n",
      "activation_26 (Activation)       (None, 15, 15, 64)    0           bn2c_branch2b[0][0]              \n",
      "____________________________________________________________________________________________________\n",
      "res2c_branch2c (Conv2D)          (None, 15, 15, 256)   16640       activation_26[0][0]              \n",
      "____________________________________________________________________________________________________\n",
      "bn2c_branch2c (BatchNormalizatio (None, 15, 15, 256)   1024        res2c_branch2c[0][0]             \n",
      "____________________________________________________________________________________________________\n",
      "add_3 (Add)                      (None, 15, 15, 256)   0           bn2c_branch2c[0][0]              \n",
      "                                                                   activation_24[0][0]              \n",
      "____________________________________________________________________________________________________\n",
      "activation_27 (Activation)       (None, 15, 15, 256)   0           add_3[0][0]                      \n",
      "____________________________________________________________________________________________________\n",
      "res3a_branch2a (Conv2D)          (None, 8, 8, 128)     32896       activation_27[0][0]              \n",
      "____________________________________________________________________________________________________\n",
      "bn3a_branch2a (BatchNormalizatio (None, 8, 8, 128)     512         res3a_branch2a[0][0]             \n",
      "____________________________________________________________________________________________________\n",
      "activation_28 (Activation)       (None, 8, 8, 128)     0           bn3a_branch2a[0][0]              \n",
      "____________________________________________________________________________________________________\n",
      "res3a_branch2b (Conv2D)          (None, 8, 8, 128)     147584      activation_28[0][0]              \n",
      "____________________________________________________________________________________________________\n",
      "bn3a_branch2b (BatchNormalizatio (None, 8, 8, 128)     512         res3a_branch2b[0][0]             \n",
      "____________________________________________________________________________________________________\n",
      "activation_29 (Activation)       (None, 8, 8, 128)     0           bn3a_branch2b[0][0]              \n",
      "____________________________________________________________________________________________________\n",
      "res3a_branch2c (Conv2D)          (None, 8, 8, 512)     66048       activation_29[0][0]              \n",
      "____________________________________________________________________________________________________\n",
      "res3a_branch1 (Conv2D)           (None, 8, 8, 512)     131584      activation_27[0][0]              \n",
      "____________________________________________________________________________________________________\n",
      "bn3a_branch2c (BatchNormalizatio (None, 8, 8, 512)     2048        res3a_branch2c[0][0]             \n",
      "____________________________________________________________________________________________________\n",
      "bn3a_branch1 (BatchNormalization (None, 8, 8, 512)     2048        res3a_branch1[0][0]              \n",
      "____________________________________________________________________________________________________\n",
      "add_4 (Add)                      (None, 8, 8, 512)     0           bn3a_branch2c[0][0]              \n",
      "                                                                   bn3a_branch1[0][0]               \n",
      "____________________________________________________________________________________________________\n",
      "activation_30 (Activation)       (None, 8, 8, 512)     0           add_4[0][0]                      \n",
      "____________________________________________________________________________________________________\n",
      "res3b_branch2a (Conv2D)          (None, 8, 8, 128)     65664       activation_30[0][0]              \n",
      "____________________________________________________________________________________________________\n",
      "bn3b_branch2a (BatchNormalizatio (None, 8, 8, 128)     512         res3b_branch2a[0][0]             \n",
      "____________________________________________________________________________________________________\n",
      "activation_31 (Activation)       (None, 8, 8, 128)     0           bn3b_branch2a[0][0]              \n",
      "____________________________________________________________________________________________________\n",
      "res3b_branch2b (Conv2D)          (None, 8, 8, 128)     147584      activation_31[0][0]              \n",
      "____________________________________________________________________________________________________\n",
      "bn3b_branch2b (BatchNormalizatio (None, 8, 8, 128)     512         res3b_branch2b[0][0]             \n",
      "____________________________________________________________________________________________________\n",
      "activation_32 (Activation)       (None, 8, 8, 128)     0           bn3b_branch2b[0][0]              \n",
      "____________________________________________________________________________________________________\n",
      "res3b_branch2c (Conv2D)          (None, 8, 8, 512)     66048       activation_32[0][0]              \n",
      "____________________________________________________________________________________________________\n",
      "bn3b_branch2c (BatchNormalizatio (None, 8, 8, 512)     2048        res3b_branch2c[0][0]             \n",
      "____________________________________________________________________________________________________\n",
      "add_5 (Add)                      (None, 8, 8, 512)     0           bn3b_branch2c[0][0]              \n",
      "                                                                   activation_30[0][0]              \n",
      "____________________________________________________________________________________________________\n",
      "activation_33 (Activation)       (None, 8, 8, 512)     0           add_5[0][0]                      \n",
      "____________________________________________________________________________________________________\n",
      "res3c_branch2a (Conv2D)          (None, 8, 8, 128)     65664       activation_33[0][0]              \n",
      "____________________________________________________________________________________________________\n",
      "bn3c_branch2a (BatchNormalizatio (None, 8, 8, 128)     512         res3c_branch2a[0][0]             \n",
      "____________________________________________________________________________________________________\n",
      "activation_34 (Activation)       (None, 8, 8, 128)     0           bn3c_branch2a[0][0]              \n",
      "____________________________________________________________________________________________________\n",
      "res3c_branch2b (Conv2D)          (None, 8, 8, 128)     147584      activation_34[0][0]              \n",
      "____________________________________________________________________________________________________\n",
      "bn3c_branch2b (BatchNormalizatio (None, 8, 8, 128)     512         res3c_branch2b[0][0]             \n",
      "____________________________________________________________________________________________________\n",
      "activation_35 (Activation)       (None, 8, 8, 128)     0           bn3c_branch2b[0][0]              \n",
      "____________________________________________________________________________________________________\n",
      "res3c_branch2c (Conv2D)          (None, 8, 8, 512)     66048       activation_35[0][0]              \n",
      "____________________________________________________________________________________________________\n",
      "bn3c_branch2c (BatchNormalizatio (None, 8, 8, 512)     2048        res3c_branch2c[0][0]             \n",
      "____________________________________________________________________________________________________\n",
      "add_6 (Add)                      (None, 8, 8, 512)     0           bn3c_branch2c[0][0]              \n",
      "                                                                   activation_33[0][0]              \n",
      "____________________________________________________________________________________________________\n",
      "activation_36 (Activation)       (None, 8, 8, 512)     0           add_6[0][0]                      \n",
      "____________________________________________________________________________________________________\n",
      "res3d_branch2a (Conv2D)          (None, 8, 8, 128)     65664       activation_36[0][0]              \n",
      "____________________________________________________________________________________________________\n",
      "bn3d_branch2a (BatchNormalizatio (None, 8, 8, 128)     512         res3d_branch2a[0][0]             \n",
      "____________________________________________________________________________________________________\n",
      "activation_37 (Activation)       (None, 8, 8, 128)     0           bn3d_branch2a[0][0]              \n",
      "____________________________________________________________________________________________________\n",
      "res3d_branch2b (Conv2D)          (None, 8, 8, 128)     147584      activation_37[0][0]              \n",
      "____________________________________________________________________________________________________\n",
      "bn3d_branch2b (BatchNormalizatio (None, 8, 8, 128)     512         res3d_branch2b[0][0]             \n",
      "____________________________________________________________________________________________________\n",
      "activation_38 (Activation)       (None, 8, 8, 128)     0           bn3d_branch2b[0][0]              \n",
      "____________________________________________________________________________________________________\n",
      "res3d_branch2c (Conv2D)          (None, 8, 8, 512)     66048       activation_38[0][0]              \n",
      "____________________________________________________________________________________________________\n",
      "bn3d_branch2c (BatchNormalizatio (None, 8, 8, 512)     2048        res3d_branch2c[0][0]             \n",
      "____________________________________________________________________________________________________\n",
      "add_7 (Add)                      (None, 8, 8, 512)     0           bn3d_branch2c[0][0]              \n",
      "                                                                   activation_36[0][0]              \n",
      "____________________________________________________________________________________________________\n",
      "activation_39 (Activation)       (None, 8, 8, 512)     0           add_7[0][0]                      \n",
      "____________________________________________________________________________________________________\n",
      "res4a_branch2a (Conv2D)          (None, 4, 4, 256)     131328      activation_39[0][0]              \n",
      "____________________________________________________________________________________________________\n",
      "bn4a_branch2a (BatchNormalizatio (None, 4, 4, 256)     1024        res4a_branch2a[0][0]             \n",
      "____________________________________________________________________________________________________\n",
      "activation_40 (Activation)       (None, 4, 4, 256)     0           bn4a_branch2a[0][0]              \n",
      "____________________________________________________________________________________________________\n",
      "res4a_branch2b (Conv2D)          (None, 4, 4, 256)     590080      activation_40[0][0]              \n",
      "____________________________________________________________________________________________________\n",
      "bn4a_branch2b (BatchNormalizatio (None, 4, 4, 256)     1024        res4a_branch2b[0][0]             \n",
      "____________________________________________________________________________________________________\n",
      "activation_41 (Activation)       (None, 4, 4, 256)     0           bn4a_branch2b[0][0]              \n",
      "____________________________________________________________________________________________________\n",
      "res4a_branch2c (Conv2D)          (None, 4, 4, 1024)    263168      activation_41[0][0]              \n",
      "____________________________________________________________________________________________________\n",
      "res4a_branch1 (Conv2D)           (None, 4, 4, 1024)    525312      activation_39[0][0]              \n",
      "____________________________________________________________________________________________________\n",
      "bn4a_branch2c (BatchNormalizatio (None, 4, 4, 1024)    4096        res4a_branch2c[0][0]             \n",
      "____________________________________________________________________________________________________\n",
      "bn4a_branch1 (BatchNormalization (None, 4, 4, 1024)    4096        res4a_branch1[0][0]              \n",
      "____________________________________________________________________________________________________\n",
      "add_8 (Add)                      (None, 4, 4, 1024)    0           bn4a_branch2c[0][0]              \n",
      "                                                                   bn4a_branch1[0][0]               \n",
      "____________________________________________________________________________________________________\n",
      "activation_42 (Activation)       (None, 4, 4, 1024)    0           add_8[0][0]                      \n",
      "____________________________________________________________________________________________________\n",
      "res4b_branch2a (Conv2D)          (None, 4, 4, 256)     262400      activation_42[0][0]              \n",
      "____________________________________________________________________________________________________\n",
      "bn4b_branch2a (BatchNormalizatio (None, 4, 4, 256)     1024        res4b_branch2a[0][0]             \n",
      "____________________________________________________________________________________________________\n",
      "activation_43 (Activation)       (None, 4, 4, 256)     0           bn4b_branch2a[0][0]              \n",
      "____________________________________________________________________________________________________\n",
      "res4b_branch2b (Conv2D)          (None, 4, 4, 256)     590080      activation_43[0][0]              \n",
      "____________________________________________________________________________________________________\n",
      "bn4b_branch2b (BatchNormalizatio (None, 4, 4, 256)     1024        res4b_branch2b[0][0]             \n",
      "____________________________________________________________________________________________________\n",
      "activation_44 (Activation)       (None, 4, 4, 256)     0           bn4b_branch2b[0][0]              \n",
      "____________________________________________________________________________________________________\n",
      "res4b_branch2c (Conv2D)          (None, 4, 4, 1024)    263168      activation_44[0][0]              \n",
      "____________________________________________________________________________________________________\n",
      "bn4b_branch2c (BatchNormalizatio (None, 4, 4, 1024)    4096        res4b_branch2c[0][0]             \n",
      "____________________________________________________________________________________________________\n",
      "add_9 (Add)                      (None, 4, 4, 1024)    0           bn4b_branch2c[0][0]              \n",
      "                                                                   activation_42[0][0]              \n",
      "____________________________________________________________________________________________________\n",
      "activation_45 (Activation)       (None, 4, 4, 1024)    0           add_9[0][0]                      \n",
      "____________________________________________________________________________________________________\n",
      "res4c_branch2a (Conv2D)          (None, 4, 4, 256)     262400      activation_45[0][0]              \n",
      "____________________________________________________________________________________________________\n",
      "bn4c_branch2a (BatchNormalizatio (None, 4, 4, 256)     1024        res4c_branch2a[0][0]             \n",
      "____________________________________________________________________________________________________\n",
      "activation_46 (Activation)       (None, 4, 4, 256)     0           bn4c_branch2a[0][0]              \n",
      "____________________________________________________________________________________________________\n",
      "res4c_branch2b (Conv2D)          (None, 4, 4, 256)     590080      activation_46[0][0]              \n",
      "____________________________________________________________________________________________________\n",
      "bn4c_branch2b (BatchNormalizatio (None, 4, 4, 256)     1024        res4c_branch2b[0][0]             \n",
      "____________________________________________________________________________________________________\n",
      "activation_47 (Activation)       (None, 4, 4, 256)     0           bn4c_branch2b[0][0]              \n",
      "____________________________________________________________________________________________________\n",
      "res4c_branch2c (Conv2D)          (None, 4, 4, 1024)    263168      activation_47[0][0]              \n",
      "____________________________________________________________________________________________________\n",
      "bn4c_branch2c (BatchNormalizatio (None, 4, 4, 1024)    4096        res4c_branch2c[0][0]             \n",
      "____________________________________________________________________________________________________\n",
      "add_10 (Add)                     (None, 4, 4, 1024)    0           bn4c_branch2c[0][0]              \n",
      "                                                                   activation_45[0][0]              \n",
      "____________________________________________________________________________________________________\n",
      "activation_48 (Activation)       (None, 4, 4, 1024)    0           add_10[0][0]                     \n",
      "____________________________________________________________________________________________________\n",
      "res4d_branch2a (Conv2D)          (None, 4, 4, 256)     262400      activation_48[0][0]              \n",
      "____________________________________________________________________________________________________\n",
      "bn4d_branch2a (BatchNormalizatio (None, 4, 4, 256)     1024        res4d_branch2a[0][0]             \n",
      "____________________________________________________________________________________________________\n",
      "activation_49 (Activation)       (None, 4, 4, 256)     0           bn4d_branch2a[0][0]              \n",
      "____________________________________________________________________________________________________\n",
      "res4d_branch2b (Conv2D)          (None, 4, 4, 256)     590080      activation_49[0][0]              \n",
      "____________________________________________________________________________________________________\n",
      "bn4d_branch2b (BatchNormalizatio (None, 4, 4, 256)     1024        res4d_branch2b[0][0]             \n",
      "____________________________________________________________________________________________________\n",
      "activation_50 (Activation)       (None, 4, 4, 256)     0           bn4d_branch2b[0][0]              \n",
      "____________________________________________________________________________________________________\n",
      "res4d_branch2c (Conv2D)          (None, 4, 4, 1024)    263168      activation_50[0][0]              \n",
      "____________________________________________________________________________________________________\n",
      "bn4d_branch2c (BatchNormalizatio (None, 4, 4, 1024)    4096        res4d_branch2c[0][0]             \n",
      "____________________________________________________________________________________________________\n",
      "add_11 (Add)                     (None, 4, 4, 1024)    0           bn4d_branch2c[0][0]              \n",
      "                                                                   activation_48[0][0]              \n",
      "____________________________________________________________________________________________________\n",
      "activation_51 (Activation)       (None, 4, 4, 1024)    0           add_11[0][0]                     \n",
      "____________________________________________________________________________________________________\n",
      "res4e_branch2a (Conv2D)          (None, 4, 4, 256)     262400      activation_51[0][0]              \n",
      "____________________________________________________________________________________________________\n",
      "bn4e_branch2a (BatchNormalizatio (None, 4, 4, 256)     1024        res4e_branch2a[0][0]             \n",
      "____________________________________________________________________________________________________\n",
      "activation_52 (Activation)       (None, 4, 4, 256)     0           bn4e_branch2a[0][0]              \n",
      "____________________________________________________________________________________________________\n",
      "res4e_branch2b (Conv2D)          (None, 4, 4, 256)     590080      activation_52[0][0]              \n",
      "____________________________________________________________________________________________________\n",
      "bn4e_branch2b (BatchNormalizatio (None, 4, 4, 256)     1024        res4e_branch2b[0][0]             \n",
      "____________________________________________________________________________________________________\n",
      "activation_53 (Activation)       (None, 4, 4, 256)     0           bn4e_branch2b[0][0]              \n",
      "____________________________________________________________________________________________________\n",
      "res4e_branch2c (Conv2D)          (None, 4, 4, 1024)    263168      activation_53[0][0]              \n",
      "____________________________________________________________________________________________________\n",
      "bn4e_branch2c (BatchNormalizatio (None, 4, 4, 1024)    4096        res4e_branch2c[0][0]             \n",
      "____________________________________________________________________________________________________\n",
      "add_12 (Add)                     (None, 4, 4, 1024)    0           bn4e_branch2c[0][0]              \n",
      "                                                                   activation_51[0][0]              \n",
      "____________________________________________________________________________________________________\n",
      "activation_54 (Activation)       (None, 4, 4, 1024)    0           add_12[0][0]                     \n",
      "____________________________________________________________________________________________________\n",
      "res4f_branch2a (Conv2D)          (None, 4, 4, 256)     262400      activation_54[0][0]              \n",
      "____________________________________________________________________________________________________\n",
      "bn4f_branch2a (BatchNormalizatio (None, 4, 4, 256)     1024        res4f_branch2a[0][0]             \n",
      "____________________________________________________________________________________________________\n",
      "activation_55 (Activation)       (None, 4, 4, 256)     0           bn4f_branch2a[0][0]              \n",
      "____________________________________________________________________________________________________\n",
      "res4f_branch2b (Conv2D)          (None, 4, 4, 256)     590080      activation_55[0][0]              \n",
      "____________________________________________________________________________________________________\n",
      "bn4f_branch2b (BatchNormalizatio (None, 4, 4, 256)     1024        res4f_branch2b[0][0]             \n",
      "____________________________________________________________________________________________________\n",
      "activation_56 (Activation)       (None, 4, 4, 256)     0           bn4f_branch2b[0][0]              \n",
      "____________________________________________________________________________________________________\n",
      "res4f_branch2c (Conv2D)          (None, 4, 4, 1024)    263168      activation_56[0][0]              \n",
      "____________________________________________________________________________________________________\n",
      "bn4f_branch2c (BatchNormalizatio (None, 4, 4, 1024)    4096        res4f_branch2c[0][0]             \n",
      "____________________________________________________________________________________________________\n",
      "add_13 (Add)                     (None, 4, 4, 1024)    0           bn4f_branch2c[0][0]              \n",
      "                                                                   activation_54[0][0]              \n",
      "____________________________________________________________________________________________________\n",
      "activation_57 (Activation)       (None, 4, 4, 1024)    0           add_13[0][0]                     \n",
      "____________________________________________________________________________________________________\n",
      "res5a_branch2a (Conv2D)          (None, 2, 2, 512)     524800      activation_57[0][0]              \n",
      "____________________________________________________________________________________________________\n",
      "bn5a_branch2a (BatchNormalizatio (None, 2, 2, 512)     2048        res5a_branch2a[0][0]             \n",
      "____________________________________________________________________________________________________\n",
      "activation_58 (Activation)       (None, 2, 2, 512)     0           bn5a_branch2a[0][0]              \n",
      "____________________________________________________________________________________________________\n",
      "res5a_branch2b (Conv2D)          (None, 2, 2, 512)     2359808     activation_58[0][0]              \n",
      "____________________________________________________________________________________________________\n",
      "bn5a_branch2b (BatchNormalizatio (None, 2, 2, 512)     2048        res5a_branch2b[0][0]             \n",
      "____________________________________________________________________________________________________\n",
      "activation_59 (Activation)       (None, 2, 2, 512)     0           bn5a_branch2b[0][0]              \n",
      "____________________________________________________________________________________________________\n",
      "res5a_branch2c (Conv2D)          (None, 2, 2, 2048)    1050624     activation_59[0][0]              \n",
      "____________________________________________________________________________________________________\n",
      "res5a_branch1 (Conv2D)           (None, 2, 2, 2048)    2099200     activation_57[0][0]              \n",
      "____________________________________________________________________________________________________\n",
      "bn5a_branch2c (BatchNormalizatio (None, 2, 2, 2048)    8192        res5a_branch2c[0][0]             \n",
      "____________________________________________________________________________________________________\n",
      "bn5a_branch1 (BatchNormalization (None, 2, 2, 2048)    8192        res5a_branch1[0][0]              \n",
      "____________________________________________________________________________________________________\n",
      "add_14 (Add)                     (None, 2, 2, 2048)    0           bn5a_branch2c[0][0]              \n",
      "                                                                   bn5a_branch1[0][0]               \n",
      "____________________________________________________________________________________________________\n",
      "activation_60 (Activation)       (None, 2, 2, 2048)    0           add_14[0][0]                     \n",
      "____________________________________________________________________________________________________\n",
      "res5b_branch2a (Conv2D)          (None, 2, 2, 512)     1049088     activation_60[0][0]              \n",
      "____________________________________________________________________________________________________\n",
      "bn5b_branch2a (BatchNormalizatio (None, 2, 2, 512)     2048        res5b_branch2a[0][0]             \n",
      "____________________________________________________________________________________________________\n",
      "activation_61 (Activation)       (None, 2, 2, 512)     0           bn5b_branch2a[0][0]              \n",
      "____________________________________________________________________________________________________\n",
      "res5b_branch2b (Conv2D)          (None, 2, 2, 512)     2359808     activation_61[0][0]              \n",
      "____________________________________________________________________________________________________\n",
      "bn5b_branch2b (BatchNormalizatio (None, 2, 2, 512)     2048        res5b_branch2b[0][0]             \n",
      "____________________________________________________________________________________________________\n",
      "activation_62 (Activation)       (None, 2, 2, 512)     0           bn5b_branch2b[0][0]              \n",
      "____________________________________________________________________________________________________\n",
      "res5b_branch2c (Conv2D)          (None, 2, 2, 2048)    1050624     activation_62[0][0]              \n",
      "____________________________________________________________________________________________________\n",
      "bn5b_branch2c (BatchNormalizatio (None, 2, 2, 2048)    8192        res5b_branch2c[0][0]             \n",
      "____________________________________________________________________________________________________\n",
      "add_15 (Add)                     (None, 2, 2, 2048)    0           bn5b_branch2c[0][0]              \n",
      "                                                                   activation_60[0][0]              \n",
      "____________________________________________________________________________________________________\n",
      "activation_63 (Activation)       (None, 2, 2, 2048)    0           add_15[0][0]                     \n",
      "____________________________________________________________________________________________________\n",
      "res5c_branch2a (Conv2D)          (None, 2, 2, 512)     1049088     activation_63[0][0]              \n",
      "____________________________________________________________________________________________________\n",
      "bn5c_branch2a (BatchNormalizatio (None, 2, 2, 512)     2048        res5c_branch2a[0][0]             \n",
      "____________________________________________________________________________________________________\n",
      "activation_64 (Activation)       (None, 2, 2, 512)     0           bn5c_branch2a[0][0]              \n",
      "____________________________________________________________________________________________________\n",
      "res5c_branch2b (Conv2D)          (None, 2, 2, 512)     2359808     activation_64[0][0]              \n",
      "____________________________________________________________________________________________________\n",
      "bn5c_branch2b (BatchNormalizatio (None, 2, 2, 512)     2048        res5c_branch2b[0][0]             \n",
      "____________________________________________________________________________________________________\n",
      "activation_65 (Activation)       (None, 2, 2, 512)     0           bn5c_branch2b[0][0]              \n",
      "____________________________________________________________________________________________________\n",
      "res5c_branch2c (Conv2D)          (None, 2, 2, 2048)    1050624     activation_65[0][0]              \n",
      "____________________________________________________________________________________________________\n",
      "bn5c_branch2c (BatchNormalizatio (None, 2, 2, 2048)    8192        res5c_branch2c[0][0]             \n",
      "____________________________________________________________________________________________________\n",
      "add_16 (Add)                     (None, 2, 2, 2048)    0           bn5c_branch2c[0][0]              \n",
      "                                                                   activation_63[0][0]              \n",
      "____________________________________________________________________________________________________\n",
      "activation_66 (Activation)       (None, 2, 2, 2048)    0           add_16[0][0]                     \n",
      "____________________________________________________________________________________________________\n",
      "avg_pool (AveragePooling2D)      (None, 1, 1, 2048)    0           activation_66[0][0]              \n",
      "____________________________________________________________________________________________________\n",
      "flatten_5 (Flatten)              (None, 2048)          0           avg_pool[0][0]                   \n",
      "____________________________________________________________________________________________________\n",
      "fc6 (Dense)                      (None, 6)             12294       flatten_5[0][0]                  \n",
      "====================================================================================================\n",
      "Total params: 23,600,006\n",
      "Trainable params: 23,546,886\n",
      "Non-trainable params: 53,120\n",
      "____________________________________________________________________________________________________\n"
     ]
    }
   ],
   "source": [
    "model.summary()"
   ]
  },
  {
   "cell_type": "code",
   "execution_count": null,
   "metadata": {
    "collapsed": true
   },
   "outputs": [],
   "source": []
  }
 ],
 "metadata": {
  "kernelspec": {
   "display_name": "Python [conda env:tensorflow]",
   "language": "python",
   "name": "conda-env-tensorflow-py"
  },
  "language_info": {
   "codemirror_mode": {
    "name": "ipython",
    "version": 3
   },
   "file_extension": ".py",
   "mimetype": "text/x-python",
   "name": "python",
   "nbconvert_exporter": "python",
   "pygments_lexer": "ipython3",
   "version": "3.5.3"
  }
 },
 "nbformat": 4,
 "nbformat_minor": 2
}
